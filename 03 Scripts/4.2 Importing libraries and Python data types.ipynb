{
 "cells": [
  {
   "cell_type": "markdown",
   "id": "6740c855",
   "metadata": {},
   "source": [
    "# 01. Importing libraries"
   ]
  },
  {
   "cell_type": "code",
   "execution_count": 1,
   "id": "f43c09aa",
   "metadata": {},
   "outputs": [],
   "source": [
    "# Import libraries\n",
    "import pandas as pd\n",
    "import numpy as np\n",
    "import os\n"
   ]
  },
  {
   "cell_type": "markdown",
   "id": "ae520760",
   "metadata": {},
   "source": [
    "# 02. Data types"
   ]
  },
  {
   "cell_type": "code",
   "execution_count": 2,
   "id": "ddf18321",
   "metadata": {},
   "outputs": [],
   "source": [
    "# 3 different ways of reaching a result of 100 by adding or subtracting numeric variables\n",
    "x= 2"
   ]
  },
  {
   "cell_type": "code",
   "execution_count": 3,
   "id": "3a4946a2",
   "metadata": {},
   "outputs": [],
   "source": [
    "y=98"
   ]
  },
  {
   "cell_type": "code",
   "execution_count": 4,
   "id": "70e2edc2",
   "metadata": {},
   "outputs": [
    {
     "data": {
      "text/plain": [
       "100"
      ]
     },
     "execution_count": 4,
     "metadata": {},
     "output_type": "execute_result"
    }
   ],
   "source": [
    "x+y"
   ]
  },
  {
   "cell_type": "code",
   "execution_count": 5,
   "id": "a0de4d3c",
   "metadata": {},
   "outputs": [],
   "source": [
    "x=160"
   ]
  },
  {
   "cell_type": "code",
   "execution_count": 6,
   "id": "78a074b0",
   "metadata": {},
   "outputs": [],
   "source": [
    "y=60"
   ]
  },
  {
   "cell_type": "code",
   "execution_count": 7,
   "id": "1f11320d",
   "metadata": {},
   "outputs": [
    {
     "data": {
      "text/plain": [
       "100"
      ]
     },
     "execution_count": 7,
     "metadata": {},
     "output_type": "execute_result"
    }
   ],
   "source": [
    "x-y"
   ]
  },
  {
   "cell_type": "code",
   "execution_count": 8,
   "id": "f306fa90",
   "metadata": {},
   "outputs": [],
   "source": [
    "x=45"
   ]
  },
  {
   "cell_type": "code",
   "execution_count": 9,
   "id": "afca15cc",
   "metadata": {},
   "outputs": [],
   "source": [
    "y=55"
   ]
  },
  {
   "cell_type": "code",
   "execution_count": 10,
   "id": "20de0868",
   "metadata": {},
   "outputs": [
    {
     "data": {
      "text/plain": [
       "100"
      ]
     },
     "execution_count": 10,
     "metadata": {},
     "output_type": "execute_result"
    }
   ],
   "source": [
    "x+y"
   ]
  },
  {
   "cell_type": "code",
   "execution_count": 11,
   "id": "0e115a00",
   "metadata": {},
   "outputs": [],
   "source": [
    "# 2 floating-point variables\n",
    "x=9.432"
   ]
  },
  {
   "cell_type": "code",
   "execution_count": 12,
   "id": "d0e75632",
   "metadata": {},
   "outputs": [],
   "source": [
    "y=3.234"
   ]
  },
  {
   "cell_type": "code",
   "execution_count": 13,
   "id": "008b6f1c",
   "metadata": {},
   "outputs": [
    {
     "data": {
      "text/plain": [
       "2.9165120593692024"
      ]
     },
     "execution_count": 13,
     "metadata": {},
     "output_type": "execute_result"
    }
   ],
   "source": [
    "x/y"
   ]
  },
  {
   "cell_type": "code",
   "execution_count": 14,
   "id": "8199d2ef",
   "metadata": {},
   "outputs": [],
   "source": [
    "# word\n",
    "a= 'He'"
   ]
  },
  {
   "cell_type": "code",
   "execution_count": 15,
   "id": "77c3ab7e",
   "metadata": {},
   "outputs": [],
   "source": [
    "b= 'llo!'"
   ]
  },
  {
   "cell_type": "code",
   "execution_count": 16,
   "id": "2d36518b",
   "metadata": {},
   "outputs": [
    {
     "data": {
      "text/plain": [
       "'Hello!'"
      ]
     },
     "execution_count": 16,
     "metadata": {},
     "output_type": "execute_result"
    }
   ],
   "source": [
    "a+b"
   ]
  },
  {
   "cell_type": "code",
   "execution_count": 17,
   "id": "1fde3091",
   "metadata": {},
   "outputs": [],
   "source": [
    "# 2 sentences\n",
    "a= 'Good '"
   ]
  },
  {
   "cell_type": "code",
   "execution_count": 18,
   "id": "3bce7286",
   "metadata": {},
   "outputs": [],
   "source": [
    "b= 'afternoon!'"
   ]
  },
  {
   "cell_type": "code",
   "execution_count": 19,
   "id": "ca6cc32f",
   "metadata": {},
   "outputs": [
    {
     "data": {
      "text/plain": [
       "'Good afternoon!'"
      ]
     },
     "execution_count": 19,
     "metadata": {},
     "output_type": "execute_result"
    }
   ],
   "source": [
    "a+b"
   ]
  },
  {
   "cell_type": "code",
   "execution_count": 20,
   "id": "201a656e",
   "metadata": {},
   "outputs": [],
   "source": [
    "a= 'Thank '"
   ]
  },
  {
   "cell_type": "code",
   "execution_count": 21,
   "id": "c3b2d0d7",
   "metadata": {},
   "outputs": [],
   "source": [
    "b= 'you '"
   ]
  },
  {
   "cell_type": "code",
   "execution_count": 22,
   "id": "f1d0c0d4",
   "metadata": {},
   "outputs": [],
   "source": [
    "c= 'very '"
   ]
  },
  {
   "cell_type": "code",
   "execution_count": 23,
   "id": "dd2f0155",
   "metadata": {},
   "outputs": [],
   "source": [
    "d= 'much!'"
   ]
  },
  {
   "cell_type": "code",
   "execution_count": 24,
   "id": "149c3282",
   "metadata": {},
   "outputs": [
    {
     "data": {
      "text/plain": [
       "'Thank you very much!'"
      ]
     },
     "execution_count": 24,
     "metadata": {},
     "output_type": "execute_result"
    }
   ],
   "source": [
    "a+b+c+d"
   ]
  },
  {
   "cell_type": "code",
   "execution_count": 25,
   "id": "00e61787",
   "metadata": {},
   "outputs": [],
   "source": [
    "# bonus task\n",
    "n= 'Hello!'"
   ]
  },
  {
   "cell_type": "code",
   "execution_count": 26,
   "id": "bd6791d9",
   "metadata": {},
   "outputs": [
    {
     "data": {
      "text/plain": [
       "'Hello!Hello!Hello!Hello!Hello!Hello!Hello!Hello!Hello!Hello!Hello!Hello!Hello!Hello!Hello!Hello!Hello!Hello!Hello!Hello!Hello!Hello!Hello!Hello!Hello!Hello!Hello!Hello!Hello!Hello!Hello!Hello!Hello!Hello!Hello!Hello!Hello!Hello!Hello!Hello!Hello!Hello!Hello!Hello!Hello!Hello!Hello!Hello!Hello!Hello!Hello!Hello!Hello!Hello!Hello!Hello!Hello!Hello!Hello!Hello!Hello!Hello!Hello!Hello!Hello!Hello!Hello!Hello!Hello!Hello!Hello!Hello!Hello!Hello!Hello!Hello!Hello!Hello!Hello!Hello!Hello!Hello!Hello!Hello!Hello!Hello!Hello!Hello!Hello!Hello!Hello!Hello!Hello!Hello!Hello!Hello!Hello!Hello!Hello!Hello!'"
      ]
     },
     "execution_count": 26,
     "metadata": {},
     "output_type": "execute_result"
    }
   ],
   "source": [
    "n*100"
   ]
  },
  {
   "cell_type": "code",
   "execution_count": null,
   "id": "16510e2b",
   "metadata": {},
   "outputs": [],
   "source": []
  }
 ],
 "metadata": {
  "kernelspec": {
   "display_name": "Python 3 (ipykernel)",
   "language": "python",
   "name": "python3"
  },
  "language_info": {
   "codemirror_mode": {
    "name": "ipython",
    "version": 3
   },
   "file_extension": ".py",
   "mimetype": "text/x-python",
   "name": "python",
   "nbconvert_exporter": "python",
   "pygments_lexer": "ipython3",
   "version": "3.9.13"
  }
 },
 "nbformat": 4,
 "nbformat_minor": 5
}
